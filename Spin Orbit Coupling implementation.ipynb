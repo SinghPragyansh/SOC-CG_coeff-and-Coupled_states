{
 "cells": [
  {
   "cell_type": "markdown",
   "id": "77312cca",
   "metadata": {},
   "source": [
    "        # We are dealing with a system having the orbital ang mom =1 \n",
    "        and spin ang mom = 1/2"
   ]
  },
  {
   "cell_type": "code",
   "execution_count": 1,
   "id": "08538a1c",
   "metadata": {},
   "outputs": [],
   "source": [
    "import numpy as np\n",
    "import scipy.linalg as sal\n",
    "import math\n",
    "import matplotlib.pyplot as plt\n",
    "from scipy.special import genlaguerre\n",
    "from scipy.integrate import simps"
   ]
  },
  {
   "cell_type": "code",
   "execution_count": 2,
   "id": "8c02fe6c",
   "metadata": {},
   "outputs": [],
   "source": [
    "def inner_product(left_vec, right_vec):\n",
    "    bra = (np.conj(left_vec)).T\n",
    "    ket = right_vec\n",
    "    inner_prod = bra @ ket\n",
    "    return inner_prod"
   ]
  },
  {
   "cell_type": "code",
   "execution_count": 3,
   "id": "e38bdfb4",
   "metadata": {},
   "outputs": [],
   "source": [
    "def norm_column_vec(x):\n",
    "    # m, n = x.shape\n",
    "    inner_pro = inner_product(x, x)\n",
    "    # inner_prodcut is still a 1x1 array, lets extract the element and take its sqrt\n",
    "    norm = np.sqrt(np.squeeze(inner_pro))\n",
    "    x_norm = x / norm\n",
    "    return x_norm"
   ]
  },
  {
   "cell_type": "code",
   "execution_count": 4,
   "id": "164732cb",
   "metadata": {},
   "outputs": [],
   "source": [
    "# probability calculation\n",
    "def probability(left, right):\n",
    "    left_vec = norm_column_vec(left)\n",
    "    right_vec = norm_column_vec(right)\n",
    "    inn_prod = inner_product(left_vec, right_vec)    \n",
    "    prob = np.square(inn_prod)\n",
    "    return np.squeeze(prob)"
   ]
  },
  {
   "cell_type": "markdown",
   "id": "b8ba65c8",
   "metadata": {},
   "source": [
    "    We are dealing with a system of orbital angular momentum =1 and spin ang mom = 1/2\n",
    "    That's how all the operators matrices are formed here"
   ]
  },
  {
   "cell_type": "code",
   "execution_count": 5,
   "id": "689e4cde",
   "metadata": {},
   "outputs": [],
   "source": [
    "def individual_operators():\n",
    "    l_2 = np.zeros((6,6))\n",
    "    s_2 = np.zeros((6,6))\n",
    "    l_plus = np.zeros((6,6))\n",
    "    s_plus = np.zeros((6,6))\n",
    "    \n",
    "    for i in range(len(l_2[0])):\n",
    "        for j in range(len(l_2[1])):\n",
    "            if i==j:\n",
    "                l_2[i,j] = 2\n",
    "                s_2[i,j] = 3/4\n",
    "                \n",
    "    l_plus[0,1] = math.sqrt(2)\n",
    "    l_plus[1,2] = math.sqrt(2)\n",
    "    l_plus[3,4] = math.sqrt(2)\n",
    "    l_plus[4,5] = math.sqrt(2)\n",
    "    \n",
    "    s_plus[0,3] = 1.0\n",
    "    s_plus[1,4] = 1.0\n",
    "    s_plus[2,5] = 1.0\n",
    "    \n",
    "    l_minus = l_plus.T\n",
    "    s_minus = s_plus.T\n",
    "    \n",
    "    lz = np.array([[1,0,0,0,0,0],[0,0,0,0,0,0],[0,0,-1,0,0,0],[0,0,0,1,0,0],[0,0,0,0,0,0],[0,0,0,0,0,-1]])\n",
    "    sz = np.array([[1/2,0,0,0,0,0],[0,1/2,0,0,0,0],[0,0,1/2,0,0,0],[0,0,0,-1/2,0,0],[0,0,0,0,-1/2,0],[0,0,0,0,0,-1/2]])\n",
    "    \n",
    "    indi_operators = {\"l_plus\":l_plus,\"l_minus\":l_minus,\"s_plus\":s_plus,\"s_minus\":s_minus,\n",
    "                    \"s_2\":s_2,\"l_2\":l_2,\"lz\":lz,\"sz\":sz}\n",
    "    \n",
    "    return indi_operators"
   ]
  },
  {
   "cell_type": "code",
   "execution_count": 6,
   "id": "723f3fb6",
   "metadata": {},
   "outputs": [],
   "source": [
    "op = individual_operators()\n",
    "l_plus= op [ \"l_plus\"]\n",
    "#l_plus"
   ]
  },
  {
   "cell_type": "code",
   "execution_count": 7,
   "id": "60c0c435",
   "metadata": {},
   "outputs": [],
   "source": [
    "def product_bases():\n",
    "    indi_op = individual_operators()\n",
    "    s_2 = indi_op[\"s_2\"]\n",
    "    val, vec = sal.eig(s_2)\n",
    "    \n",
    "    # product_eigen_vecs are |ml, ms>\n",
    "    vec1 = vec[0]\n",
    "    vec2 = vec[1]\n",
    "    vec3 = vec[2]\n",
    "    vec4 = vec[3]\n",
    "    vec5 = vec[4]\n",
    "    vec6 = vec[5]\n",
    "    \n",
    "    function_list = [vec1,vec2,vec3,vec4,vec5,vec6]\n",
    "    function_dict = {\"|1,1/2>\":vec1,\"|0,1/2>\":vec2,\"|-1,1/2>\":vec3,\"|1,-1/2>\":vec4,\n",
    "                    \"|0,-1/2>\":vec5,\"|-1,-1/2>\":vec6}\n",
    "    \n",
    "    return function_dict"
   ]
  },
  {
   "cell_type": "code",
   "execution_count": 8,
   "id": "96f43a8b",
   "metadata": {},
   "outputs": [],
   "source": [
    "def J_2_operate():\n",
    "    indi_op = individual_operators()\n",
    "    l_plus = indi_op[\"l_plus\"]\n",
    "    l_minus = indi_op[\"l_minus\"]\n",
    "    s_plus = indi_op[\"s_plus\"]\n",
    "    s_minus = indi_op[\"s_minus\"]\n",
    "    l_2 = indi_op[\"l_2\"]\n",
    "    s_2 = indi_op[\"s_2\"]\n",
    "    lz = indi_op[\"lz\"]\n",
    "    sz = indi_op[\"sz\"]\n",
    "    \n",
    "    J_2_mat = l_2 + s_2 + l_plus@s_minus + l_minus@s_plus + 2*(lz @ sz)\n",
    "    \n",
    "    return J_2_mat"
   ]
  },
  {
   "cell_type": "code",
   "execution_count": 9,
   "id": "a7e2180f",
   "metadata": {},
   "outputs": [],
   "source": [
    "J_2 = J_2_operate()\n",
    "#J_2"
   ]
  },
  {
   "cell_type": "code",
   "execution_count": 10,
   "id": "7f731e15",
   "metadata": {},
   "outputs": [],
   "source": [
    "def coupled_bases():\n",
    "    J_2 = J_2_operate()\n",
    "    val, vec = sal.eig(J_2)\n",
    "    \n",
    "    return val, vec"
   ]
  },
  {
   "cell_type": "code",
   "execution_count": 11,
   "id": "248d2641",
   "metadata": {},
   "outputs": [],
   "source": [
    "coupled_val, coupled_states = coupled_bases()"
   ]
  },
  {
   "cell_type": "code",
   "execution_count": 12,
   "id": "56fbc590",
   "metadata": {},
   "outputs": [
    {
     "data": {
      "text/plain": [
       "array([3.75+0.j, 0.75+0.j, 3.75+0.j, 0.75+0.j, 3.75+0.j, 3.75+0.j])"
      ]
     },
     "execution_count": 12,
     "metadata": {},
     "output_type": "execute_result"
    }
   ],
   "source": [
    "# we must have J = 3/2 and J = 1/2\n",
    "# s.t. mj = +-3/2, +-1/2 and mj = +-1/2 respectively, \n",
    "# hence, we must get 3.75 for four times and 0.75 two times\n",
    "coupled_val"
   ]
  },
  {
   "cell_type": "code",
   "execution_count": 13,
   "id": "1709a941",
   "metadata": {},
   "outputs": [],
   "source": [
    "CG_coeff = coupled_states.T\n",
    "#CG_coeff\n",
    "s = CG_coeff.shape[0]\n",
    "CG_dict = {}\n",
    "for i in range(s):\n",
    "    CG_dict[f\"vec_{i+1}\"] = CG_coeff[i,:]\n",
    "    \n",
    "#CG_dict[\"vec_1\"]"
   ]
  },
  {
   "cell_type": "code",
   "execution_count": 14,
   "id": "2c4ebfa1",
   "metadata": {},
   "outputs": [
    {
     "data": {
      "text/plain": [
       "0.6666666666666669"
      ]
     },
     "execution_count": 14,
     "metadata": {},
     "output_type": "execute_result"
    }
   ],
   "source": [
    "prepared_state = CG_dict[\"vec_2\"]\n",
    "prod_vec = product_bases()\n",
    "minus_one_half = prod_vec[\"|-1,1/2>\"]\n",
    "measured_state = minus_one_half\n",
    "\n",
    "prob = probability(measured_state, prepared_state)\n",
    "prob"
   ]
  },
  {
   "cell_type": "markdown",
   "id": "a137dc45",
   "metadata": {},
   "source": [
    "    # The concept here is, spin mangetic moment will interact with emergent mangetic field\n",
    "    of a magnetic dipole, which emerged as a presence of net resultant orbital angular mom\n",
    "    The perturbative Hamiltonian for an electron spin interacting with magnrtic field is:\n",
    "        # H1 = - mu_s . B\n",
    "        # B = (k)*(e/m_e*c^2*r^3)*L\n",
    "        # H1 = cont*(1/r^3)*(S.L)\n",
    "        # since, we can not measure, sxlx+syly+szlz , at the same time, therefore let's go\n",
    "        # to coupled framework of total angular momentum: L.S = 0.5*(J_2 - L_2 - S_2)\n",
    "        # H1 = const*(1/r^3)*(J_2 - L_2 - S_2)\n",
    "        # The r term will require the system's radial function info where as \n",
    "        # the J, L, and S term will require only coupled state info\n",
    "        # therefore, we can treat them separately and then multiply them later"
   ]
  },
  {
   "cell_type": "code",
   "execution_count": null,
   "id": "6534ac68",
   "metadata": {},
   "outputs": [],
   "source": []
  },
  {
   "cell_type": "code",
   "execution_count": 15,
   "id": "f4a04f13",
   "metadata": {},
   "outputs": [],
   "source": [
    "def ls_mat():\n",
    "    J_2 = J_2_operate()\n",
    "    indi_op = individual_operators()\n",
    "    L_2 = indi_op[\"l_2\"]\n",
    "    S_2 = indi_op[\"s_2\"]\n",
    "    \n",
    "    ls_mat = J_2 - L_2 - S_2\n",
    "    \n",
    "    return ls_mat"
   ]
  },
  {
   "cell_type": "code",
   "execution_count": 16,
   "id": "c44da005",
   "metadata": {},
   "outputs": [],
   "source": [
    "def ls_coupling(vec): \n",
    "    ls_coupled_mat = ls_mat()\n",
    "    \n",
    "    inner_prod = np.conj(vec) @ ls_coupled_mat @ vec\n",
    "    \n",
    "    return inner_prod"
   ]
  },
  {
   "cell_type": "code",
   "execution_count": 17,
   "id": "a6893ba5",
   "metadata": {},
   "outputs": [
    {
     "data": {
      "text/plain": [
       "[1.0, -2.0, 1.0, -2.0, 1.0, 1.0]"
      ]
     },
     "execution_count": 17,
     "metadata": {},
     "output_type": "execute_result"
    }
   ],
   "source": [
    "ls_val_list = []\n",
    "for i in range(len(CG_dict)):\n",
    "    vec = CG_dict[f\"vec_{i+1}\"]\n",
    "    ls_val_list.append(round(ls_coupling(vec),4))\n",
    "ls_val_list"
   ]
  },
  {
   "cell_type": "markdown",
   "id": "9d8b97bc",
   "metadata": {},
   "source": [
    "### Let's model the radial wf solution of H atom:"
   ]
  },
  {
   "cell_type": "code",
   "execution_count": 18,
   "id": "8ab9767b",
   "metadata": {},
   "outputs": [],
   "source": [
    "def radial_wavefunction(n,l,r):\n",
    "    '''Returns the radial wavefunction for each value of r where n is the principle quantum number and l is the angular momentum quantum number.'''\n",
    "    grid_points = len(r)\n",
    "    y=np.zeros(grid_points)\n",
    "    #Generates an associated laguerre polynomial as a scipy.special.orthogonal.orthopoly1d\n",
    "    Lag = genlaguerre(n-l-1, 2*l+1)\n",
    "    #Loops through each power of r in the laguerre polynomial and adds to the total\n",
    "    for i in range(len(Lag)+1):\n",
    "        i = float(i)\n",
    "        #The main equation (What its all about)\n",
    "        y = y + (((r/(n*a))**(l))*(np.exp(-r/(a*n)))*Lag[int(i)]*(((2*r)/(a*n))**i))\n",
    "    return normalise(y,r)"
   ]
  },
  {
   "cell_type": "code",
   "execution_count": 19,
   "id": "1093b258",
   "metadata": {},
   "outputs": [],
   "source": [
    "def normalise(psi, r):\n",
    "    integral = simps(np.absolute(psi), r)\n",
    "    normalised_psi = psi / integral\n",
    "    return normalised_psi"
   ]
  },
  {
   "cell_type": "code",
   "execution_count": 20,
   "id": "00743e25",
   "metadata": {},
   "outputs": [],
   "source": [
    " def plot_it(r, Rnl, label):\n",
    "    if label.split()[2] == '0':\n",
    "        label = label.replace('0', 's')\n",
    "    elif label.split()[2] == '1':\n",
    "        label = label.replace('1', 'p')\n",
    "    elif label.split()[2] == '2':\n",
    "        label = label.replace('2', 'd')\n",
    "    elif label.split()[2] == '3':\n",
    "        label = label.replace('3', 'f')\n",
    "    plt.figure(figsize=(3,3))\n",
    "    plt.plot(r, r*Rnl, label = label)\n",
    "    plt.xlabel('r')\n",
    "    plt.ylabel('rR(r)')\n",
    "    plt.grid()\n",
    "    plt.legend()\n",
    "    plt.show()"
   ]
  },
  {
   "cell_type": "code",
   "execution_count": 21,
   "id": "4d0b6d55",
   "metadata": {},
   "outputs": [
    {
     "data": {
      "image/png": "[encoded data removed]",
      "text/plain": [
       "<Figure size 216x216 with 1 Axes>"
      ]
     },
     "metadata": {
      "needs_background": "light"
     },
     "output_type": "display_data"
    },
    {
     "data": {
      "image/png": "[encoded data removed]",
      "text/plain": [
       "<Figure size 216x216 with 1 Axes>"
      ]
     },
     "metadata": {
      "needs_background": "light"
     },
     "output_type": "display_data"
    },
    {
     "data": {
      "image/png": "[encoded data removed]",
      "text/plain": [
       "<Figure size 216x216 with 1 Axes>"
      ]
     },
     "metadata": {
      "needs_background": "light"
     },
     "output_type": "display_data"
    },
    {
     "data": {
      "image/png": "[encoded data removed]",
      "text/plain": [
       "<Figure size 216x216 with 1 Axes>"
      ]
     },
     "metadata": {
      "needs_background": "light"
     },
     "output_type": "display_data"
    },
    {
     "data": {
      "image/png": "[encoded data removed]",
      "text/plain": [
       "<Figure size 216x216 with 1 Axes>"
      ]
     },
     "metadata": {
      "needs_background": "light"
     },
     "output_type": "display_data"
    },
    {
     "data": {
      "image/png": "[encoded data removed]",
      "text/plain": [
       "<Figure size 216x216 with 1 Axes>"
      ]
     },
     "metadata": {
      "needs_background": "light"
     },
     "output_type": "display_data"
    }
   ],
   "source": [
    "a = 1.0\n",
    "shell = 3  # Principal quantum number\n",
    "grid_points = 10000\n",
    "r = np.linspace(0, 10, grid_points) # radial variable\n",
    "\n",
    "for n in range(1,shell+1):\n",
    "    for l in range(n):\n",
    "        Rnl = radial_wavefunction(n,l,r)\n",
    "        label = f\"{n} - {l}\"\n",
    "        plot_it(r, Rnl, label)"
   ]
  },
  {
   "cell_type": "markdown",
   "id": "7b5bfc75",
   "metadata": {},
   "source": [
    "### For l = 1 and s = 1/2, we will need the radial function with l =1,\n",
    "    though the restriction for n >= 2 is more broad ranged, let's focus to n = 3"
   ]
  },
  {
   "cell_type": "code",
   "execution_count": 22,
   "id": "24a05c06",
   "metadata": {},
   "outputs": [],
   "source": [
    "grid_points = 20000\n",
    "r = np.linspace(0.1,10, grid_points)\n",
    "psi_r = radial_wavefunction(n,l,r)"
   ]
  },
  {
   "cell_type": "markdown",
   "id": "79c1a027",
   "metadata": {},
   "source": [
    "### <psi_r | (1/r^3) | psi_r>"
   ]
  },
  {
   "cell_type": "code",
   "execution_count": 23,
   "id": "c3ed5478",
   "metadata": {},
   "outputs": [],
   "source": [
    "def radial_integration(psi, r):\n",
    "    integrand = np.conj(psi)*(r**(-3))*psi\n",
    "    integral = simps(integrand, r)\n",
    "    return integral"
   ]
  },
  {
   "cell_type": "code",
   "execution_count": 24,
   "id": "358c3a55",
   "metadata": {},
   "outputs": [],
   "source": [
    "# In atomic units\n",
    "# 4*pi*permitivity = 1\n",
    "# speed of light = c = 137 \n",
    "q_e = 1\n",
    "m_e = 1\n",
    "h_cut = 1\n",
    "c = 137\n",
    "const = (q_e**2)/(4*(m_e**2)*(c**2))"
   ]
  },
  {
   "cell_type": "markdown",
   "id": "5c76de62",
   "metadata": {},
   "source": [
    "### fnl = const*radial_integration"
   ]
  },
  {
   "cell_type": "code",
   "execution_count": 25,
   "id": "dc9568c5",
   "metadata": {},
   "outputs": [],
   "source": [
    "radial_contri = const*radial_integration(psi_r, r)"
   ]
  },
  {
   "cell_type": "markdown",
   "id": "e7311664",
   "metadata": {},
   "source": [
    "### For one of the randomly picked LS coupled state for \"J^2 - L^2 - S^2\" operation:"
   ]
  },
  {
   "cell_type": "code",
   "execution_count": 26,
   "id": "9a525db8",
   "metadata": {},
   "outputs": [],
   "source": [
    "random_num = np.random.randint(1,len(CG_dict))\n",
    "random_vec = CG_dict[f\"vec_{random_num}\"]"
   ]
  },
  {
   "cell_type": "code",
   "execution_count": 27,
   "id": "bda8cd23",
   "metadata": {},
   "outputs": [],
   "source": [
    "ls_contri = ls_coupling(random_vec)"
   ]
  },
  {
   "cell_type": "code",
   "execution_count": 28,
   "id": "5d7dde2c",
   "metadata": {},
   "outputs": [],
   "source": [
    "E_soc = radial_contri * ls_contri"
   ]
  },
  {
   "cell_type": "code",
   "execution_count": 29,
   "id": "aef6b05b",
   "metadata": {},
   "outputs": [
    {
     "data": {
      "text/plain": [
       "2.4243840650834822e-08"
      ]
     },
     "execution_count": 29,
     "metadata": {},
     "output_type": "execute_result"
    }
   ],
   "source": [
    "E_soc"
   ]
  },
  {
   "cell_type": "code",
   "execution_count": null,
   "id": "93371b9a",
   "metadata": {},
   "outputs": [],
   "source": []
  }
 ],
 "metadata": {
  "kernelspec": {
   "display_name": "Python 3",
   "language": "python",
   "name": "python3"
  },
  "language_info": {
   "codemirror_mode": {
    "name": "ipython",
    "version": 3
   },
   "file_extension": ".py",
   "mimetype": "text/x-python",
   "name": "python",
   "nbconvert_exporter": "python",
   "pygments_lexer": "ipython3",
   "version": "3.8.8"
  }
 },
 "nbformat": 4,
 "nbformat_minor": 5
}
