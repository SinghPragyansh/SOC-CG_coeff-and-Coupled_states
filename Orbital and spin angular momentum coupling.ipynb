{
 "cells": [
  {
   "cell_type": "code",
   "execution_count": 10,
   "id": "08538a1c",
   "metadata": {},
   "outputs": [],
   "source": [
    "import numpy as np\n",
    "import scipy.linalg as sal\n",
    "import math"
   ]
  },
  {
   "cell_type": "code",
   "execution_count": 2,
   "id": "8c02fe6c",
   "metadata": {},
   "outputs": [],
   "source": [
    "def inner_product(left_vec, right_vec):\n",
    "    bra = (np.conj(left_vec)).T\n",
    "    ket = right_vec\n",
    "    inner_prod = bra @ ket\n",
    "    return inner_prod"
   ]
  },
  {
   "cell_type": "code",
   "execution_count": 3,
   "id": "e38bdfb4",
   "metadata": {},
   "outputs": [],
   "source": [
    "def norm_column_vec(x):\n",
    "    # m, n = x.shape\n",
    "    inner_pro = inner_product(x, x)\n",
    "    # inner_prodcut is still a 1x1 array, lets extract the element and take its sqrt\n",
    "    norm = np.sqrt(np.squeeze(inner_pro))\n",
    "    x_norm = x / norm\n",
    "    return x_norm"
   ]
  },
  {
   "cell_type": "code",
   "execution_count": 4,
   "id": "164732cb",
   "metadata": {},
   "outputs": [],
   "source": [
    "# probability calculation\n",
    "def probability(left, right):\n",
    "    left_vec = norm_column_vec(left)\n",
    "    right_vec = norm_column_vec(right)\n",
    "    inn_prod = inner_product(left_vec, right_vec)    \n",
    "    prob = np.square(inn_prod)\n",
    "    return np.squeeze(prob)"
   ]
  },
  {
   "cell_type": "code",
   "execution_count": 56,
   "id": "689e4cde",
   "metadata": {},
   "outputs": [],
   "source": [
    "def individual_operators():\n",
    "    l_2 = np.zeros((6,6))\n",
    "    s_2 = np.zeros((6,6))\n",
    "    l_plus = np.zeros((6,6))\n",
    "    s_plus = np.zeros((6,6))\n",
    "    \n",
    "    for i in range(len(l_2[0])):\n",
    "        for j in range(len(l_2[1])):\n",
    "            if i==j:\n",
    "                l_2[i,j] = 2\n",
    "                s_2[i,j] = 3/4\n",
    "                \n",
    "    l_plus[0,1] = math.sqrt(2)\n",
    "    l_plus[1,2] = math.sqrt(2)\n",
    "    l_plus[3,4] = math.sqrt(2)\n",
    "    l_plus[4,5] = math.sqrt(2)\n",
    "    \n",
    "    s_plus[0,3] = 1.0\n",
    "    s_plus[1,4] = 1.0\n",
    "    s_plus[2,5] = 1.0\n",
    "    \n",
    "    l_minus = l_plus.T\n",
    "    s_minus = s_plus.T\n",
    "    \n",
    "    lz = np.array([[1,0,0,0,0,0],[0,0,0,0,0,0],[0,0,-1,0,0,0],[0,0,0,1,0,0],[0,0,0,0,0,0],[0,0,0,0,0,-1]])\n",
    "    sz = np.array([[1/2,0,0,0,0,0],[0,1/2,0,0,0,0],[0,0,1/2,0,0,0],[0,0,0,-1/2,0,0],[0,0,0,0,-1/2,0],[0,0,0,0,0,-1/2]])\n",
    "    \n",
    "    indi_operators = {\"l_plus\":l_plus,\"l_minus\":l_minus,\"s_plus\":s_plus,\"s_minus\":s_minus,\n",
    "                    \"s_2\":s_2,\"l_2\":l_2,\"lz\":lz,\"sz\":sz}\n",
    "    \n",
    "    return indi_operators"
   ]
  },
  {
   "cell_type": "code",
   "execution_count": 57,
   "id": "723f3fb6",
   "metadata": {},
   "outputs": [
    {
     "data": {
      "text/plain": [
       "array([[0., 0., 0., 0., 0., 0.],\n",
       "       [0., 0., 0., 0., 0., 0.],\n",
       "       [0., 0., 0., 0., 0., 0.],\n",
       "       [1., 0., 0., 0., 0., 0.],\n",
       "       [0., 1., 0., 0., 0., 0.],\n",
       "       [0., 0., 1., 0., 0., 0.]])"
      ]
     },
     "execution_count": 57,
     "metadata": {},
     "output_type": "execute_result"
    }
   ],
   "source": [
    "op = individual_operators()\n",
    "l_plus= op [ \"s_minus\"]\n",
    "l_plus"
   ]
  },
  {
   "cell_type": "code",
   "execution_count": 66,
   "id": "60c0c435",
   "metadata": {},
   "outputs": [],
   "source": [
    "def product_bases():\n",
    "    indi_op = individual_operators()\n",
    "    s_2 = indi_op[\"s_2\"]\n",
    "    val, vec = sal.eig(s_2)\n",
    "    \n",
    "    # product_eigen_vecs are |ml, ms>\n",
    "    vec1 = vec[0]\n",
    "    vec2 = vec[1]\n",
    "    vec3 = vec[2]\n",
    "    vec4 = vec[3]\n",
    "    vec5 = vec[4]\n",
    "    vec6 = vec[5]\n",
    "    \n",
    "    function_list = [vec1,vec2,vec3,vec4,vec5,vec6]\n",
    "    function_dict = {\"|1,1/2>\":vec1,\"|0,1/2>\":vec2,\"|-1,1/2>\":vec3,\"|1,-1/2>\":vec4,\n",
    "                    \"|0,-1/2>\":vec5,\"|-1,-1/2>\":vec6}\n",
    "    \n",
    "    return function_dict"
   ]
  },
  {
   "cell_type": "code",
   "execution_count": 67,
   "id": "96f43a8b",
   "metadata": {},
   "outputs": [],
   "source": [
    "def J_2_operate():\n",
    "    indi_op = individual_operator()\n",
    "    l_plus = indi_op[\"l_plus\"]\n",
    "    l_minus = indi_op[\"l_minus\"]\n",
    "    s_plus = indi_op[\"s_plus\"]\n",
    "    s_minus = indi_op[\"s_minus\"]\n",
    "    l_2 = indi_op[\"l_2\"]\n",
    "    s_2 = indi_op[\"s_2\"]\n",
    "    lz = indi_op[\"lz\"]\n",
    "    sz = indi_op[\"sz\"]\n",
    "    \n",
    "    J_2_mat = l_2 + s_2 + l_plus@s_minus + l_minus@s_plus + 2*(lz @ sz)\n",
    "    \n",
    "    return J_2_mat"
   ]
  },
  {
   "cell_type": "code",
   "execution_count": 68,
   "id": "a7e2180f",
   "metadata": {},
   "outputs": [
    {
     "data": {
      "text/plain": [
       "array([[3.75      , 0.        , 0.        , 0.        , 0.        ,\n",
       "        0.        ],\n",
       "       [0.        , 2.75      , 0.        , 1.41421356, 0.        ,\n",
       "        0.        ],\n",
       "       [0.        , 0.        , 1.75      , 0.        , 1.41421356,\n",
       "        0.        ],\n",
       "       [0.        , 1.41421356, 0.        , 1.75      , 0.        ,\n",
       "        0.        ],\n",
       "       [0.        , 0.        , 1.41421356, 0.        , 2.75      ,\n",
       "        0.        ],\n",
       "       [0.        , 0.        , 0.        , 0.        , 0.        ,\n",
       "        3.75      ]])"
      ]
     },
     "execution_count": 68,
     "metadata": {},
     "output_type": "execute_result"
    }
   ],
   "source": [
    "J_2 = J_2_operate()\n",
    "J_2"
   ]
  },
  {
   "cell_type": "code",
   "execution_count": 69,
   "id": "7f731e15",
   "metadata": {},
   "outputs": [],
   "source": [
    "def coupled_bases():\n",
    "    J_2 = J_2_operate()\n",
    "    val, vec = sal.eig(J_2)\n",
    "    \n",
    "    return val, vec"
   ]
  },
  {
   "cell_type": "code",
   "execution_count": 70,
   "id": "248d2641",
   "metadata": {},
   "outputs": [],
   "source": [
    "coupled_val, coupled_states = coupled_bases()"
   ]
  },
  {
   "cell_type": "code",
   "execution_count": 71,
   "id": "56fbc590",
   "metadata": {},
   "outputs": [
    {
     "data": {
      "text/plain": [
       "array([3.75+0.j, 0.75+0.j, 3.75+0.j, 0.75+0.j, 3.75+0.j, 3.75+0.j])"
      ]
     },
     "execution_count": 71,
     "metadata": {},
     "output_type": "execute_result"
    }
   ],
   "source": [
    "# we must have J = 3/2 and J = 1/2\n",
    "# s.t. mj = +-3/2, +-1/2 and mj = +-1/2 respectively, \n",
    "# hence, we must get 3.75 for four times and 0.75 two times\n",
    "coupled_val"
   ]
  },
  {
   "cell_type": "code",
   "execution_count": 72,
   "id": "1709a941",
   "metadata": {},
   "outputs": [
    {
     "data": {
      "text/plain": [
       "array([[ 1.        ,  0.        ,  0.        ,  0.        ,  0.        ,\n",
       "         0.        ],\n",
       "       [ 0.        ,  1.        ,  0.        ,  0.        ,  0.        ,\n",
       "         0.        ],\n",
       "       [ 0.        ,  0.        ,  1.        ,  0.        ,  0.        ,\n",
       "         0.        ],\n",
       "       [ 0.        , -0.81649658,  0.        ,  0.57735027,  0.        ,\n",
       "         0.        ],\n",
       "       [ 0.        ,  0.        ,  0.42640143,  0.        ,  0.90453403,\n",
       "         0.        ],\n",
       "       [ 0.        ,  0.        ,  0.        ,  0.        ,  0.        ,\n",
       "         1.        ]])"
      ]
     },
     "execution_count": 72,
     "metadata": {},
     "output_type": "execute_result"
    }
   ],
   "source": [
    "CG_coeff = coupled_vec.T\n",
    "CG_coeff"
   ]
  },
  {
   "cell_type": "code",
   "execution_count": 82,
   "id": "2c4ebfa1",
   "metadata": {},
   "outputs": [
    {
     "data": {
      "text/plain": [
       "0.18181818181818188"
      ]
     },
     "execution_count": 82,
     "metadata": {},
     "output_type": "execute_result"
    }
   ],
   "source": [
    "prepared_state = CG_coeff[4]\n",
    "prod_vec = product_bases()\n",
    "minus_one_half = prod_vec[\"|-1,1/2>\"]\n",
    "measured_state = minus_one_half\n",
    "\n",
    "prob = probability(measured_state, prepared_state)\n",
    "prob"
   ]
  },
  {
   "cell_type": "code",
   "execution_count": null,
   "id": "0e4f864b",
   "metadata": {},
   "outputs": [],
   "source": []
  },
  {
   "cell_type": "code",
   "execution_count": null,
   "id": "84c0943f",
   "metadata": {},
   "outputs": [],
   "source": []
  }
 ],
 "metadata": {
  "kernelspec": {
   "display_name": "Python 3",
   "language": "python",
   "name": "python3"
  },
  "language_info": {
   "codemirror_mode": {
    "name": "ipython",
    "version": 3
   },
   "file_extension": ".py",
   "mimetype": "text/x-python",
   "name": "python",
   "nbconvert_exporter": "python",
   "pygments_lexer": "ipython3",
   "version": "3.8.8"
  }
 },
 "nbformat": 4,
 "nbformat_minor": 5
}
